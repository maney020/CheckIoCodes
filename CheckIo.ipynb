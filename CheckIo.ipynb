{
  "nbformat": 4,
  "nbformat_minor": 0,
  "metadata": {
    "colab": {
      "name": "CheckIo.ipynb",
      "version": "0.3.2",
      "provenance": [],
      "collapsed_sections": [],
      "include_colab_link": true
    },
    "kernelspec": {
      "name": "python3",
      "display_name": "Python 3"
    }
  },
  "cells": [
    {
      "cell_type": "markdown",
      "metadata": {
        "id": "view-in-github",
        "colab_type": "text"
      },
      "source": [
        "<a href=\"https://colab.research.google.com/github/maney020/CheckIoCodes/blob/master/CheckIo.ipynb\" target=\"_parent\"><img src=\"https://colab.research.google.com/assets/colab-badge.svg\" alt=\"Open In Colab\"/></a>"
      ]
    },
    {
      "metadata": {
        "id": "ulx7QYA72jNy",
        "colab_type": "text"
      },
      "cell_type": "markdown",
      "source": [
        "# **CheckIo PyThon**"
      ]
    },
    {
      "metadata": {
        "id": "26S834732aaH",
        "colab_type": "text"
      },
      "cell_type": "markdown",
      "source": [
        "Practice programs of CheckIo Python website"
      ]
    },
    {
      "metadata": {
        "id": "PD2wOO6y2qPO",
        "colab_type": "text"
      },
      "cell_type": "markdown",
      "source": [
        "## **The Most Wanted Letter**  "
      ]
    },
    {
      "metadata": {
        "id": "Ltai5kMZ3BnX",
        "colab_type": "text"
      },
      "cell_type": "markdown",
      "source": [
        "Skill = Elementary"
      ]
    },
    {
      "metadata": {
        "id": "hGMhYt6W3M2P",
        "colab_type": "text"
      },
      "cell_type": "markdown",
      "source": [
        "You are given a text, which contains different english letters and punctuation symbols. You should find the most frequent letter in the text. The letter returned must be in lower case.\n",
        "While checking for the most wanted letter, casing does not matter, so for the purpose of your search, \"A\" == \"a\". Make sure you do not count punctuation symbols, digits and whitespaces, only letters.\n",
        "\n",
        "If you have two or more letters with the same frequency, then return the letter which comes first in the latin alphabet. For example -- \"one\" contains \"o\", \"n\", \"e\" only once for each, thus we choose \"e\".\n",
        "\n",
        "Input: A text for analysis as a string.\n",
        "\n",
        "Output: The most frequent letter in lower case as a string.\n",
        "\n",
        "Example:\n",
        "\n",
        "checkio(\"Hello World!\") == \"l\"\n",
        "checkio(\"How do you do?\") == \"o\"\n",
        "checkio(\"One\") == \"e\"\n",
        "checkio(\"Oops!\") == \"o\"\n",
        "checkio(\"AAaooo!!!!\") == \"a\"\n",
        "checkio(\"abe\") == \"a\"\n",
        "1\n",
        "2\n",
        "3\n",
        "4\n",
        "5\n",
        "6\n",
        "How it is used: For most decryption tasks you need to know the frequency of occurrence for various letters in a section of text. For example: we can easily crack a simple addition or substitution cipher if we know the frequency in which letters appear. This is interesting stuff for language experts!\n",
        "\n",
        "Precondition:\n",
        "A text contains only ASCII symbols.\n",
        "0 < len(text) ≤ 105"
      ]
    },
    {
      "metadata": {
        "id": "luuQZSkA3WKJ",
        "colab_type": "code",
        "colab": {}
      },
      "cell_type": "code",
      "source": [
        "def checkio(text: str) -> str:\n",
        "\n",
        "    #replace this for solution\n",
        "    string = text\n",
        "    string = string.lower()\n",
        "    \n",
        "    #to remove all the space and special characters and numbers.\n",
        "    string = ''.join(e for e in string if e.isalpha())\n",
        "    \n",
        "    str_arr = list(string)\n",
        "    \n",
        "    #sort the string\n",
        "    str_arr.sort()\n",
        "    \n",
        "    ans = 0\n",
        "    ans_arr = []\n",
        "    \n",
        "    for i in str_arr:\n",
        "        for char in str_arr:\n",
        "            if i == char:\n",
        "                ans += 1\n",
        "        ans_arr.append(ans)\n",
        "        ans = 0\n",
        "        \n",
        "    return(str_arr[ans_arr.index(max(ans_arr))])\n",
        "\n",
        "if __name__ == '__main__':\n",
        "    print(\"Example:\")\n",
        "    print(checkio(\"Hello World!\"))\n",
        "\n",
        "    #These \"asserts\" using only for self-checking and not necessary for auto-testing\n",
        "    assert checkio(\"Hello World!\") == \"l\", \"Hello test\"\n",
        "    assert checkio(\"How do you do?\") == \"o\", \"O is most wanted\"\n",
        "    assert checkio(\"One\") == \"e\", \"All letter only once.\"\n",
        "    assert checkio(\"Oops!\") == \"o\", \"Don't forget about lower case.\"\n",
        "    assert checkio(\"AAaooo!!!!\") == \"a\", \"Only letters.\"\n",
        "    assert checkio(\"abe\") == \"a\", \"The First.\"\n",
        "    print(\"Start the long test\")\n",
        "    assert checkio(\"a\" * 9000 + \"b\" * 1000) == \"a\", \"Long.\"\n",
        "    print(\"The local tests are done.\")"
      ],
      "execution_count": 0,
      "outputs": []
    }
  ]
}